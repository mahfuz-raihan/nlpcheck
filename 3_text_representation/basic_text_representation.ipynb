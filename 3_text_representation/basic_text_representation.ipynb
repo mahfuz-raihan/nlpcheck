{
 "cells": [
  {
   "cell_type": "markdown",
   "metadata": {},
   "source": [
    "# One hot encoding\n",
    "this technique need to understand, for learn next all technique. This is very basic next feature extraction technique which much have to learn. and we should follow all this technique."
   ]
  },
  {
   "cell_type": "markdown",
   "metadata": {},
   "source": [
    "# Bag of Words (BOW) \n",
    "this technique is another basic text representation technique, let's learn. \n",
    "\n",
    "this is very effective in ```text classification```"
   ]
  },
  {
   "cell_type": "code",
   "execution_count": 1,
   "metadata": {},
   "outputs": [],
   "source": [
    "import numpy as np\n",
    "import pandas as pd"
   ]
  },
  {
   "cell_type": "code",
   "execution_count": 2,
   "metadata": {},
   "outputs": [],
   "source": [
    "df = pd.DataFrame({\n",
    "        'text':['Bangladesh is among the most densely',\n",
    "            'People\\'s Republic of Bangladesh',\n",
    "            'Bangladesh forms the sovereign part of the historic',\n",
    "            'The country has a Bengali Muslim majority'],\n",
    "        'output': [1, 0, 1, 1]\n",
    "    }\n",
    ")"
   ]
  },
  {
   "cell_type": "code",
   "execution_count": 3,
   "metadata": {},
   "outputs": [
    {
     "data": {
      "text/html": [
       "<div>\n",
       "<style scoped>\n",
       "    .dataframe tbody tr th:only-of-type {\n",
       "        vertical-align: middle;\n",
       "    }\n",
       "\n",
       "    .dataframe tbody tr th {\n",
       "        vertical-align: top;\n",
       "    }\n",
       "\n",
       "    .dataframe thead th {\n",
       "        text-align: right;\n",
       "    }\n",
       "</style>\n",
       "<table border=\"1\" class=\"dataframe\">\n",
       "  <thead>\n",
       "    <tr style=\"text-align: right;\">\n",
       "      <th></th>\n",
       "      <th>text</th>\n",
       "      <th>output</th>\n",
       "    </tr>\n",
       "  </thead>\n",
       "  <tbody>\n",
       "    <tr>\n",
       "      <th>0</th>\n",
       "      <td>Bangladesh is among the most densely</td>\n",
       "      <td>1</td>\n",
       "    </tr>\n",
       "    <tr>\n",
       "      <th>1</th>\n",
       "      <td>People's Republic of Bangladesh</td>\n",
       "      <td>0</td>\n",
       "    </tr>\n",
       "    <tr>\n",
       "      <th>2</th>\n",
       "      <td>Bangladesh forms the sovereign part of the his...</td>\n",
       "      <td>1</td>\n",
       "    </tr>\n",
       "    <tr>\n",
       "      <th>3</th>\n",
       "      <td>The country has a Bengali Muslim majority</td>\n",
       "      <td>1</td>\n",
       "    </tr>\n",
       "  </tbody>\n",
       "</table>\n",
       "</div>"
      ],
      "text/plain": [
       "                                                text  output\n",
       "0               Bangladesh is among the most densely       1\n",
       "1                    People's Republic of Bangladesh       0\n",
       "2  Bangladesh forms the sovereign part of the his...       1\n",
       "3          The country has a Bengali Muslim majority       1"
      ]
     },
     "execution_count": 3,
     "metadata": {},
     "output_type": "execute_result"
    }
   ],
   "source": [
    "df"
   ]
  },
  {
   "cell_type": "code",
   "execution_count": 4,
   "metadata": {},
   "outputs": [],
   "source": [
    "from sklearn.feature_extraction.text import CountVectorizer\n",
    "cv = CountVectorizer()"
   ]
  },
  {
   "cell_type": "code",
   "execution_count": 5,
   "metadata": {},
   "outputs": [],
   "source": [
    "bow = cv.fit_transform(df['text'])"
   ]
  },
  {
   "cell_type": "code",
   "execution_count": 6,
   "metadata": {},
   "outputs": [
    {
     "name": "stdout",
     "output_type": "stream",
     "text": [
      "{'bangladesh': 1, 'is': 8, 'among': 0, 'the': 17, 'most': 10, 'densely': 4, 'people': 14, 'republic': 15, 'of': 12, 'forms': 5, 'sovereign': 16, 'part': 13, 'historic': 7, 'country': 3, 'has': 6, 'bengali': 2, 'muslim': 11, 'majority': 9}\n"
     ]
    }
   ],
   "source": [
    "# vocabolary\n",
    "print(cv.vocabulary_)"
   ]
  },
  {
   "cell_type": "code",
   "execution_count": 7,
   "metadata": {},
   "outputs": [
    {
     "name": "stdout",
     "output_type": "stream",
     "text": [
      "[[1 1 0 0 1 0 0 0 1 0 1 0 0 0 0 0 0 1]]\n"
     ]
    }
   ],
   "source": [
    "print(bow[0].toarray())"
   ]
  },
  {
   "cell_type": "code",
   "execution_count": 8,
   "metadata": {},
   "outputs": [
    {
     "name": "stdout",
     "output_type": "stream",
     "text": [
      "  (0, 1)\t1\n",
      "  (0, 8)\t1\n",
      "  (0, 0)\t1\n",
      "  (0, 17)\t1\n",
      "  (0, 10)\t1\n",
      "  (0, 4)\t1\n",
      "  (1, 1)\t1\n",
      "  (1, 14)\t1\n",
      "  (1, 15)\t1\n",
      "  (1, 12)\t1\n",
      "  (2, 1)\t1\n",
      "  (2, 17)\t2\n",
      "  (2, 12)\t1\n",
      "  (2, 5)\t1\n",
      "  (2, 16)\t1\n",
      "  (2, 13)\t1\n",
      "  (2, 7)\t1\n",
      "  (3, 17)\t1\n",
      "  (3, 3)\t1\n",
      "  (3, 6)\t1\n",
      "  (3, 2)\t1\n",
      "  (3, 11)\t1\n",
      "  (3, 9)\t1\n"
     ]
    }
   ],
   "source": [
    "print(bow)"
   ]
  },
  {
   "cell_type": "code",
   "execution_count": 9,
   "metadata": {},
   "outputs": [
    {
     "name": "stdout",
     "output_type": "stream",
     "text": [
      "[[1 1 0 0 1 0 0 0 1 0 1 0 0 0 0 0 0 1]]\n",
      "[[0 1 0 0 0 0 0 0 0 0 0 0 1 0 1 1 0 0]]\n",
      "[[0 1 0 0 0 1 0 1 0 0 0 0 1 1 0 0 1 2]]\n",
      "[[0 0 1 1 0 0 1 0 0 1 0 1 0 0 0 0 0 1]]\n"
     ]
    }
   ],
   "source": [
    "for i in range(4):\n",
    "    print(bow[i].toarray())"
   ]
  },
  {
   "cell_type": "code",
   "execution_count": 10,
   "metadata": {},
   "outputs": [
    {
     "data": {
      "text/plain": [
       "array([[0, 1, 1, 1, 0, 0, 1, 0, 1, 1, 0, 1, 0, 0, 0, 0, 0, 1]])"
      ]
     },
     "execution_count": 10,
     "metadata": {},
     "output_type": "execute_result"
    }
   ],
   "source": [
    "cv.transform([\"Bangladesh is the country has a Bengali Muslim majority\"]).toarray()"
   ]
  },
  {
   "cell_type": "markdown",
   "metadata": {},
   "source": [
    "# N-grams"
   ]
  },
  {
   "cell_type": "code",
   "execution_count": 11,
   "metadata": {},
   "outputs": [
    {
     "data": {
      "text/html": [
       "<div>\n",
       "<style scoped>\n",
       "    .dataframe tbody tr th:only-of-type {\n",
       "        vertical-align: middle;\n",
       "    }\n",
       "\n",
       "    .dataframe tbody tr th {\n",
       "        vertical-align: top;\n",
       "    }\n",
       "\n",
       "    .dataframe thead th {\n",
       "        text-align: right;\n",
       "    }\n",
       "</style>\n",
       "<table border=\"1\" class=\"dataframe\">\n",
       "  <thead>\n",
       "    <tr style=\"text-align: right;\">\n",
       "      <th></th>\n",
       "      <th>text</th>\n",
       "      <th>output</th>\n",
       "    </tr>\n",
       "  </thead>\n",
       "  <tbody>\n",
       "    <tr>\n",
       "      <th>0</th>\n",
       "      <td>Bangladesh is among the most densely</td>\n",
       "      <td>1</td>\n",
       "    </tr>\n",
       "    <tr>\n",
       "      <th>1</th>\n",
       "      <td>People's Republic of Bangladesh</td>\n",
       "      <td>0</td>\n",
       "    </tr>\n",
       "    <tr>\n",
       "      <th>2</th>\n",
       "      <td>Bangladesh forms the sovereign part of the his...</td>\n",
       "      <td>1</td>\n",
       "    </tr>\n",
       "    <tr>\n",
       "      <th>3</th>\n",
       "      <td>The country has a Bengali Muslim majority</td>\n",
       "      <td>1</td>\n",
       "    </tr>\n",
       "  </tbody>\n",
       "</table>\n",
       "</div>"
      ],
      "text/plain": [
       "                                                text  output\n",
       "0               Bangladesh is among the most densely       1\n",
       "1                    People's Republic of Bangladesh       0\n",
       "2  Bangladesh forms the sovereign part of the his...       1\n",
       "3          The country has a Bengali Muslim majority       1"
      ]
     },
     "execution_count": 11,
     "metadata": {},
     "output_type": "execute_result"
    }
   ],
   "source": [
    "df"
   ]
  },
  {
   "cell_type": "code",
   "execution_count": 18,
   "metadata": {},
   "outputs": [],
   "source": [
    "cv_n_grams = CountVectorizer(ngram_range=(3, 3))\n",
    "\n",
    "n_g = cv_n_grams.fit_transform(df['text'])"
   ]
  },
  {
   "cell_type": "code",
   "execution_count": 19,
   "metadata": {},
   "outputs": [
    {
     "name": "stdout",
     "output_type": "stream",
     "text": [
      "{'bangladesh is among': 2, 'is among the': 7, 'among the most': 0, 'the most densely': 14, 'people republic of': 10, 'republic of bangladesh': 11, 'bangladesh forms the': 1, 'forms the sovereign': 5, 'the sovereign part': 15, 'sovereign part of': 12, 'part of the': 9, 'of the historic': 8, 'the country has': 13, 'country has bengali': 4, 'has bengali muslim': 6, 'bengali muslim majority': 3}\n"
     ]
    }
   ],
   "source": [
    "print(cv_n_grams.vocabulary_)"
   ]
  },
  {
   "cell_type": "code",
   "execution_count": 21,
   "metadata": {},
   "outputs": [
    {
     "name": "stdout",
     "output_type": "stream",
     "text": [
      "[[1 0 1 0 0 0 0 1 0 0 0 0 0 0 1 0]]\n"
     ]
    }
   ],
   "source": [
    "print(n_g[0].toarray())"
   ]
  },
  {
   "cell_type": "markdown",
   "metadata": {},
   "source": [
    "|**benefits**|**disadvantage**|\n",
    "|------------|----------------|\n",
    "|1. Able to capture semantic meaning| 1. Slow down the algorithm for n-gram/bi-gram|\n",
    "|2. Intuative and easy to understand|2. out of vocabolary(OOV)|"
   ]
  },
  {
   "cell_type": "markdown",
   "metadata": {},
   "source": [
    "# TF-IDF\n",
    "\n",
    "```\n",
    "TF  = Term Frequency\n",
    "IDF = Inverce Documents Frequency\n",
    "```\n",
    "$$\n",
    "TF(t, d) = \\frac{(Number \\;of \\;occurence \\;of \\;term \\;t \\;in \\;document \\;d)}{(Total \\;number \\;of \\;term \\;in \\;the \\;document \\;d)}\n",
    "$$\n",
    "$$\n",
    "IDF(t) = log_e \\frac{(Total \\;number \\;of \\;documents \\;in \\;the \\;corpus)}{(Number \\;of \\;documents \\;with \\;term \\;t \\;in \\;them)}\n",
    "$$"
   ]
  },
  {
   "cell_type": "markdown",
   "metadata": {},
   "source": [
    "#### Example:\n",
    "\n",
    "main documents:\n",
    "|doc|description|sentiment|\n",
    "|----|----|---|\n",
    "|D1|people watch me|1|\n",
    "|D2|me watch me|1|\n",
    "|D3|people write comment|0|\n",
    "|D4|me write comment|0|\n",
    "\n",
    "```TF  = Term Frequency```\n",
    "\n",
    "$$\n",
    "TF(t, d) = \\frac{(Number \\;of \\;occurence \\;of \\;term \\;t \\;in \\;document \\;d)}{(Total \\;number \\;of \\;term \\;in \\;the \\;document \\;d)}\n",
    "$$\n",
    "\n",
    "\n",
    "|Doc|people|watch|me|write|comment|\n",
    "|---|------|-----|--|-----|-------|\n",
    "|D1|$1/3$|$1/3$|$1/3$|$0$|$0$|\n",
    "|D2|$0$|$1/3$|$2/3$|$0$|$0$|\n",
    "|D3|$1/3$|$0$|$0$|$1/3$|$1/3$|\n",
    "|D4|$0$|$0$|$1/3$|$1/3$|$1/3$|"
   ]
  },
  {
   "cell_type": "markdown",
   "metadata": {},
   "source": [
    "```IDF = Inverce Documents Frequency```\n",
    "$$\n",
    "IDF(t) = log_e \\frac{(Total \\;number \\;of \\;documents \\;in \\;the \\;corpus)}{(Number \\;of \\;documents \\;with \\;term \\;t \\;in \\;them)}\n",
    "$$\n",
    "\n",
    "||IDF|\n",
    "|--|:---:|\n",
    "|people|$log_e(\\frac{4}{2})$|\n",
    "|watch|$log_e(\\frac{4}{2})$|\n",
    "|me|$log_e(\\frac{4}{3})$|\n",
    "|write|$log_e(\\frac{4}{2})$|\n",
    "|comment|$log_e(\\frac{4}{2})$|"
   ]
  },
  {
   "cell_type": "markdown",
   "metadata": {},
   "source": [
    "### How to calculate the TF-IDF\n",
    "\n",
    "$formula \\;is = TF*IDF$\n",
    "\n",
    "|Doc|people|watch|me|write|comment|\n",
    "|---|-----------------------|------------------------|-----|-------|--|\n",
    "|D1|$1/3*log_e(\\frac{4}{2})$|$1/3*log_e(\\frac{4}{2})$|$1/3*log_e(\\frac{4}{3})$|$0$|$0$|\n",
    "|D2|$0$|$1/3*log_e(\\frac{4}{2})$|$2/3*log_e(\\frac{4}{3})$|$0$|$0$|\n",
    "|D3|$1/3*log_e(\\frac{4}{2})$|$0$|$0$|$1/3*log_e(\\frac{4}{2})$|$1/3*log_e(\\frac{4}{2})$|\n",
    "|D4|$0$|$0$|$1/3*log_e(\\frac{4}{3})$|$1/3*log_e(\\frac{4}{2})$|$1/3*log_e(\\frac{4}{2})$|"
   ]
  },
  {
   "cell_type": "markdown",
   "metadata": {},
   "source": [
    "Let's code"
   ]
  },
  {
   "cell_type": "code",
   "execution_count": 22,
   "metadata": {},
   "outputs": [
    {
     "data": {
      "text/html": [
       "<div>\n",
       "<style scoped>\n",
       "    .dataframe tbody tr th:only-of-type {\n",
       "        vertical-align: middle;\n",
       "    }\n",
       "\n",
       "    .dataframe tbody tr th {\n",
       "        vertical-align: top;\n",
       "    }\n",
       "\n",
       "    .dataframe thead th {\n",
       "        text-align: right;\n",
       "    }\n",
       "</style>\n",
       "<table border=\"1\" class=\"dataframe\">\n",
       "  <thead>\n",
       "    <tr style=\"text-align: right;\">\n",
       "      <th></th>\n",
       "      <th>text</th>\n",
       "      <th>output</th>\n",
       "    </tr>\n",
       "  </thead>\n",
       "  <tbody>\n",
       "    <tr>\n",
       "      <th>0</th>\n",
       "      <td>Bangladesh is among the most densely</td>\n",
       "      <td>1</td>\n",
       "    </tr>\n",
       "    <tr>\n",
       "      <th>1</th>\n",
       "      <td>People's Republic of Bangladesh</td>\n",
       "      <td>0</td>\n",
       "    </tr>\n",
       "    <tr>\n",
       "      <th>2</th>\n",
       "      <td>Bangladesh forms the sovereign part of the his...</td>\n",
       "      <td>1</td>\n",
       "    </tr>\n",
       "    <tr>\n",
       "      <th>3</th>\n",
       "      <td>The country has a Bengali Muslim majority</td>\n",
       "      <td>1</td>\n",
       "    </tr>\n",
       "  </tbody>\n",
       "</table>\n",
       "</div>"
      ],
      "text/plain": [
       "                                                text  output\n",
       "0               Bangladesh is among the most densely       1\n",
       "1                    People's Republic of Bangladesh       0\n",
       "2  Bangladesh forms the sovereign part of the his...       1\n",
       "3          The country has a Bengali Muslim majority       1"
      ]
     },
     "execution_count": 22,
     "metadata": {},
     "output_type": "execute_result"
    }
   ],
   "source": [
    "df"
   ]
  },
  {
   "cell_type": "code",
   "execution_count": 40,
   "metadata": {},
   "outputs": [],
   "source": [
    "from sklearn.feature_extraction.text import TfidfVectorizer\n",
    "tf = TfidfVectorizer()"
   ]
  },
  {
   "cell_type": "code",
   "execution_count": 41,
   "metadata": {},
   "outputs": [
    {
     "data": {
      "text/plain": [
       "array([[0.45573244, 0.29088811, 0.        , 0.        , 0.45573244,\n",
       "        0.        , 0.        , 0.        , 0.45573244, 0.        ,\n",
       "        0.45573244, 0.        , 0.        , 0.        , 0.        ,\n",
       "        0.        , 0.        , 0.29088811],\n",
       "       [0.        , 0.36674667, 0.        , 0.        , 0.        ,\n",
       "        0.        , 0.        , 0.        , 0.        , 0.        ,\n",
       "        0.        , 0.        , 0.4530051 , 0.        , 0.57457953,\n",
       "        0.57457953, 0.        , 0.        ],\n",
       "       [0.        , 0.24735638, 0.        , 0.        , 0.        ,\n",
       "        0.38753157, 0.        , 0.38753157, 0.        , 0.        ,\n",
       "        0.        , 0.        , 0.30553434, 0.38753157, 0.        ,\n",
       "        0.        , 0.38753157, 0.49471276],\n",
       "       [0.        , 0.        , 0.43003652, 0.43003652, 0.        ,\n",
       "        0.        , 0.43003652, 0.        , 0.        , 0.43003652,\n",
       "        0.        , 0.43003652, 0.        , 0.        , 0.        ,\n",
       "        0.        , 0.        , 0.27448674]])"
      ]
     },
     "execution_count": 41,
     "metadata": {},
     "output_type": "execute_result"
    }
   ],
   "source": [
    "#df['text'] = df['text'].astype('object')\n",
    "tf.fit_transform(df['text']).toarray()"
   ]
  },
  {
   "cell_type": "code",
   "execution_count": 42,
   "metadata": {},
   "outputs": [
    {
     "name": "stdout",
     "output_type": "stream",
     "text": [
      "[1.91629073 1.22314355 1.91629073 1.91629073 1.91629073 1.91629073\n",
      " 1.91629073 1.91629073 1.91629073 1.91629073 1.91629073 1.91629073\n",
      " 1.51082562 1.91629073 1.91629073 1.91629073 1.91629073 1.22314355]\n"
     ]
    }
   ],
   "source": [
    "print(tf.idf_)"
   ]
  },
  {
   "cell_type": "code",
   "execution_count": 44,
   "metadata": {},
   "outputs": [
    {
     "name": "stdout",
     "output_type": "stream",
     "text": [
      "['among' 'bangladesh' 'bengali' 'country' 'densely' 'forms' 'has'\n",
      " 'historic' 'is' 'majority' 'most' 'muslim' 'of' 'part' 'people'\n",
      " 'republic' 'sovereign' 'the']\n"
     ]
    }
   ],
   "source": [
    "print(tf.get_feature_names_out())"
   ]
  },
  {
   "cell_type": "code",
   "execution_count": null,
   "metadata": {},
   "outputs": [],
   "source": []
  }
 ],
 "metadata": {
  "kernelspec": {
   "display_name": "torch",
   "language": "python",
   "name": "python3"
  },
  "language_info": {
   "codemirror_mode": {
    "name": "ipython",
    "version": 3
   },
   "file_extension": ".py",
   "mimetype": "text/x-python",
   "name": "python",
   "nbconvert_exporter": "python",
   "pygments_lexer": "ipython3",
   "version": "3.11.0"
  },
  "orig_nbformat": 4
 },
 "nbformat": 4,
 "nbformat_minor": 2
}
