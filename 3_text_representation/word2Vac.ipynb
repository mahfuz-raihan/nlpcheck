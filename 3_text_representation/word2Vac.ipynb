{
 "cells": [
  {
   "cell_type": "markdown",
   "metadata": {},
   "source": [
    "# Word 2 Vactor\n",
    "## Demo"
   ]
  },
  {
   "cell_type": "code",
   "execution_count": 1,
   "metadata": {},
   "outputs": [],
   "source": [
    "# import library\n",
    "import gensim\n",
    "from gensim.models import Word2Vec,KeyedVectors"
   ]
  },
  {
   "cell_type": "code",
   "execution_count": 3,
   "metadata": {},
   "outputs": [
    {
     "name": "stdout",
     "output_type": "stream",
     "text": [
      "--2023-09-01 04:13:35--  https://drive.google.com/file/d/0B7XkCwpI5KDYNlNUTTlSS21pQmM/edit?resourcekey=0-wjGZdNAUop6WykTtMip30g\n",
      "Resolving drive.google.com (drive.google.com)... 142.250.193.78, 2404:6800:4002:81b::200e\n",
      "Connecting to drive.google.com (drive.google.com)|142.250.193.78|:443... connected.\n",
      "HTTP request sent, awaiting response... 200 OK\n",
      "Length: unspecified [text/html]\n",
      "Saving to: ‘edit?resourcekey=0-wjGZdNAUop6WykTtMip30g’\n",
      "\n",
      "edit?resourcekey=0-     [ <=>                ]  78.62K   504KB/s    in 0.2s    \n",
      "\n",
      "2023-09-01 04:13:38 (504 KB/s) - ‘edit?resourcekey=0-wjGZdNAUop6WykTtMip30g’ saved [80505]\n",
      "\n"
     ]
    }
   ],
   "source": [
    "# download models\n"
   ]
  },
  {
   "cell_type": "code",
   "execution_count": null,
   "metadata": {},
   "outputs": [],
   "source": []
  },
  {
   "cell_type": "code",
   "execution_count": null,
   "metadata": {},
   "outputs": [],
   "source": []
  },
  {
   "cell_type": "code",
   "execution_count": null,
   "metadata": {},
   "outputs": [],
   "source": []
  },
  {
   "cell_type": "markdown",
   "metadata": {},
   "source": [
    "### GOT dataset train"
   ]
  },
  {
   "cell_type": "code",
   "execution_count": 1,
   "metadata": {},
   "outputs": [],
   "source": [
    "# import library\n",
    "\n",
    "import numpy as np\n",
    "import pandas as pd\n",
    "\n",
    "import gensim\n",
    "import os\n",
    "\n",
    "from nltk import sent_tokenize\n",
    "from gensim.utils import simple_preprocess"
   ]
  },
  {
   "cell_type": "code",
   "execution_count": 2,
   "metadata": {},
   "outputs": [
    {
     "name": "stdout",
     "output_type": "stream",
     "text": [
      "001ssb.txt\n",
      "002ssb.txt\n",
      "003ssb.txt\n",
      "004ssb.txt\n",
      "005ssb.txt\n"
     ]
    }
   ],
   "source": [
    "story = []\n",
    "\n",
    "for file in os.listdir('/media/mahfuz/Media/datasets/NLP_learn/word2vac/GOT_dataset'):\n",
    "    print(file)"
   ]
  },
  {
   "cell_type": "code",
   "execution_count": 8,
   "metadata": {},
   "outputs": [],
   "source": [
    "story = []\n",
    "\n",
    "folder = '/media/mahfuz/Media/datasets/NLP_learn/word2vac/GOT_dataset'\n",
    "for file in os.listdir(folder):\n",
    "    with open(os.path.join(folder, file), encoding='utf-8', errors='ignore') as f:\n",
    "        corpus = f.read()\n",
    "        row_sentence = sent_tokenize(corpus)\n",
    "        for sent in row_sentence:\n",
    "            story.append(simple_preprocess(sent))"
   ]
  },
  {
   "cell_type": "code",
   "execution_count": 10,
   "metadata": {},
   "outputs": [
    {
     "data": {
      "text/plain": [
       "158874"
      ]
     },
     "execution_count": 10,
     "metadata": {},
     "output_type": "execute_result"
    }
   ],
   "source": [
    "len(story)"
   ]
  },
  {
   "cell_type": "code",
   "execution_count": null,
   "metadata": {},
   "outputs": [],
   "source": []
  }
 ],
 "metadata": {
  "kernelspec": {
   "display_name": "torch",
   "language": "python",
   "name": "python3"
  },
  "language_info": {
   "codemirror_mode": {
    "name": "ipython",
    "version": 3
   },
   "file_extension": ".py",
   "mimetype": "text/x-python",
   "name": "python",
   "nbconvert_exporter": "python",
   "pygments_lexer": "ipython3",
   "version": "3.11.0"
  },
  "orig_nbformat": 4
 },
 "nbformat": 4,
 "nbformat_minor": 2
}
