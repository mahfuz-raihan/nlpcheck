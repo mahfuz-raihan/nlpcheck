{
 "cells": [
  {
   "cell_type": "markdown",
   "metadata": {},
   "source": [
    "## Simple RNN"
   ]
  },
  {
   "cell_type": "code",
   "execution_count": 1,
   "metadata": {},
   "outputs": [],
   "source": [
    "import torch\n",
    "import torch.nn as nn\n",
    "import torch.optim as optim"
   ]
  },
  {
   "cell_type": "markdown",
   "metadata": {},
   "source": [
    "```nn.RNN``` is a class within the pytorch framework, specifically part of the torch.nn module. It is usef to create a instance of a ```recurrent neural network``` layer. "
   ]
  },
  {
   "cell_type": "markdown",
   "metadata": {},
   "source": [
    "## Key Parameter\n",
    "\n",
    "1. ```input_size```: The number of expected features in the input x.\n",
    "2. ```hidden_size```: The number of features in the hidden state h.\n",
    "3. ```num_layers (optional)```: Number of recurrent layers. E.g., setting ```num_layers=2``` would mean stacking two RNNs together to form a stacked RNN, with the second RNN taking in output of the first RNN and computing the final results. \n",
    "4. ```non-linearity(optional)```: the non-linearity to use. Can be either ```tanh``` or ```ReLU``` . Default is ```tanH```.\n",
    "5. ```bias (optional)```: If ```False```, the the layer dones not use bias weight ```b_ih``` and ```b_hh```. Default is ```True```.\n",
    "6. ```batch_size (optional)```: If ```True```, then the input and output tensors are provided as (batch, seq, feature). Default is ```False```, which expects ```(seq,batch,feature)```.\n",
    "7. ```dropout (optional)```: If ```non-zero```, introduces as ```Dropout``` layer on the outputs of each RNN layer except the last layer, with dropout probability equal to dropout. Default is ```0```. \n",
    "8. ```bidirectional (optional)```: If ```True```, becoumes a bidirectional RNN. Default is ```False```. \n"
   ]
  },
  {
   "cell_type": "code",
   "execution_count": null,
   "metadata": {},
   "outputs": [],
   "source": [
    " "
   ]
  }
 ],
 "metadata": {
  "kernelspec": {
   "display_name": "Python 3",
   "language": "python",
   "name": "python3"
  },
  "language_info": {
   "codemirror_mode": {
    "name": "ipython",
    "version": 3
   },
   "file_extension": ".py",
   "mimetype": "text/x-python",
   "name": "python",
   "nbconvert_exporter": "python",
   "pygments_lexer": "ipython3",
   "version": "3.11.9"
  }
 },
 "nbformat": 4,
 "nbformat_minor": 2
}
