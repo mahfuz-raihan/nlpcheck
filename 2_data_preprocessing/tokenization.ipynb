{
 "cells": [
  {
   "cell_type": "markdown",
   "metadata": {},
   "source": [
    "# Tokenization"
   ]
  },
  {
   "cell_type": "markdown",
   "metadata": {},
   "source": [
    "## 1. Using split function"
   ]
  },
  {
   "cell_type": "code",
   "execution_count": 1,
   "metadata": {},
   "outputs": [
    {
     "data": {
      "text/plain": [
       "[\"I'm\", 'going', 'to', 'home', 'to', 'kushtia']"
      ]
     },
     "execution_count": 1,
     "metadata": {},
     "output_type": "execute_result"
    }
   ],
   "source": [
    "# word tokenization\n",
    "sent1 = \"I'm going to home to kushtia\"\n",
    "sent1.split()"
   ]
  },
  {
   "cell_type": "code",
   "execution_count": 2,
   "metadata": {},
   "outputs": [
    {
     "data": {
      "text/plain": [
       "[\"I'm going to home in kushtia\", \"Let's go for a walk tomorrow morning!\"]"
      ]
     },
     "execution_count": 2,
     "metadata": {},
     "output_type": "execute_result"
    }
   ],
   "source": [
    "# sentence tokenization\n",
    "sent2 = \"I'm going to home in kushtia.Let's go for a walk tomorrow morning!\"\n",
    "sent2.split('.')"
   ]
  },
  {
   "cell_type": "code",
   "execution_count": 3,
   "metadata": {},
   "outputs": [
    {
     "data": {
      "text/plain": [
       "[\"I'm\",\n",
       " 'going',\n",
       " 'to',\n",
       " 'home',\n",
       " 'in',\n",
       " \"kushtia.Let's\",\n",
       " 'go',\n",
       " 'for',\n",
       " 'a',\n",
       " 'walk',\n",
       " 'tomorrow',\n",
       " 'morning!']"
      ]
     },
     "execution_count": 3,
     "metadata": {},
     "output_type": "execute_result"
    }
   ],
   "source": [
    "# word tokenization\n",
    "sent2 = \"I'm going to home in kushtia.Let's go for a walk tomorrow morning!\"\n",
    "sent2.split()"
   ]
  },
  {
   "cell_type": "markdown",
   "metadata": {},
   "source": [
    "## 2. Regular Expression"
   ]
  },
  {
   "cell_type": "code",
   "execution_count": 4,
   "metadata": {},
   "outputs": [
    {
     "data": {
      "text/plain": [
       "['I', 'am', 'going', 'to', 'home']"
      ]
     },
     "execution_count": 4,
     "metadata": {},
     "output_type": "execute_result"
    }
   ],
   "source": [
    "import re\n",
    "sent3 = 'I am going to home!'\n",
    "tokens = re.findall(\"[\\w']+\", sent3)\n",
    "tokens"
   ]
  },
  {
   "cell_type": "markdown",
   "metadata": {},
   "source": [
    "## 3. NLTK"
   ]
  },
  {
   "cell_type": "code",
   "execution_count": 5,
   "metadata": {},
   "outputs": [],
   "source": [
    "import pandas as pd\n",
    "rm_p_df_train = pd.read_csv('/media/mahfuz/Media/datasets/NLP_learn/data_preprocessing/twitter_sentiment_analysis/train.csv')\n",
    "rm_p_df_test = pd.read_csv('/media/mahfuz/Media/datasets/NLP_learn/data_preprocessing/twitter_sentiment_analysis/test.csv')"
   ]
  },
  {
   "cell_type": "code",
   "execution_count": 6,
   "metadata": {},
   "outputs": [
    {
     "data": {
      "text/plain": [
       "0      @user when a father is dysfunctional and is s...\n",
       "1     @user @user thanks for #lyft credit i can't us...\n",
       "2                                   bihday your majesty\n",
       "3     #model   i love u take with u all the time in ...\n",
       "4                factsguide: society now    #motivation\n",
       "5     [2/2] huge fan fare and big talking before the...\n",
       "6      @user camping tomorrow @user @user @user @use...\n",
       "7     the next school year is the year for exams.ð...\n",
       "8     we won!!! love the land!!! #allin #cavs #champ...\n",
       "9      @user @user welcome here !  i'm   it's so #gr...\n",
       "10     â #ireland consumer price index (mom) climb...\n",
       "11    we are so selfish. #orlando #standwithorlando ...\n",
       "12    i get to see my daddy today!!   #80days #getti...\n",
       "13    @user #cnn calls #michigan middle school 'buil...\n",
       "14    no comment!  in #australia   #opkillingbay #se...\n",
       "15    ouch...junior is angryð#got7 #junior #yugyo...\n",
       "16    i am thankful for having a paner. #thankful #p...\n",
       "17                               retweet if you agree! \n",
       "18    its #friday! ð smiles all around via ig use...\n",
       "19    as we all know, essential oils are not made of...\n",
       "Name: tweet, dtype: object"
      ]
     },
     "execution_count": 6,
     "metadata": {},
     "output_type": "execute_result"
    }
   ],
   "source": [
    "rm_p_df_train['tweet'].head(20)"
   ]
  },
  {
   "cell_type": "code",
   "execution_count": 7,
   "metadata": {},
   "outputs": [],
   "source": [
    "text1 = rm_p_df_train['tweet'][7]"
   ]
  },
  {
   "cell_type": "code",
   "execution_count": 8,
   "metadata": {},
   "outputs": [
    {
     "name": "stderr",
     "output_type": "stream",
     "text": [
      "[nltk_data] Downloading package punkt to /home/mahfuz/nltk_data...\n",
      "[nltk_data]   Package punkt is already up-to-date!\n"
     ]
    },
    {
     "data": {
      "text/plain": [
       "['the',\n",
       " 'next',\n",
       " 'school',\n",
       " 'year',\n",
       " 'is',\n",
       " 'the',\n",
       " 'year',\n",
       " 'for',\n",
       " 'exams.ð\\x9f\\x98¯',\n",
       " 'ca',\n",
       " \"n't\",\n",
       " 'think',\n",
       " 'about',\n",
       " 'that',\n",
       " 'ð\\x9f\\x98\\xad',\n",
       " '#',\n",
       " 'school',\n",
       " '#',\n",
       " 'exams',\n",
       " '#',\n",
       " 'hate',\n",
       " '#',\n",
       " 'imagine',\n",
       " '#',\n",
       " 'actorslife',\n",
       " '#',\n",
       " 'revolutionschool',\n",
       " '#',\n",
       " 'girl']"
      ]
     },
     "execution_count": 8,
     "metadata": {},
     "output_type": "execute_result"
    }
   ],
   "source": [
    "import nltk\n",
    "from nltk.tokenize import word_tokenize, sent_tokenize\n",
    "nltk.download('punkt')\n",
    "word_tokenize(text1)"
   ]
  },
  {
   "cell_type": "code",
   "execution_count": 9,
   "metadata": {},
   "outputs": [
    {
     "data": {
      "text/plain": [
       "[\"the next school year is the year for exams.ð\\x9f\\x98¯ can't think about that ð\\x9f\\x98\\xad #school #exams   #hate #imagine #actorslife #revolutionschool #girl\"]"
      ]
     },
     "execution_count": 9,
     "metadata": {},
     "output_type": "execute_result"
    }
   ],
   "source": [
    "sent_tokenize(text1)"
   ]
  },
  {
   "cell_type": "code",
   "execution_count": 10,
   "metadata": {},
   "outputs": [],
   "source": [
    "text2 = 'I have a Ph.D in A.I'\n",
    "text3 = \"We're here to help! mail us at mfz@gmail.com\"\n",
    "text4 = \"a 5km ride cost #10.54\""
   ]
  },
  {
   "cell_type": "code",
   "execution_count": 11,
   "metadata": {},
   "outputs": [
    {
     "data": {
      "text/plain": [
       "['We',\n",
       " \"'re\",\n",
       " 'here',\n",
       " 'to',\n",
       " 'help',\n",
       " '!',\n",
       " 'mail',\n",
       " 'us',\n",
       " 'at',\n",
       " 'mfz',\n",
       " '@',\n",
       " 'gmail.com']"
      ]
     },
     "execution_count": 11,
     "metadata": {},
     "output_type": "execute_result"
    }
   ],
   "source": [
    "word_tokenize(text2)\n",
    "word_tokenize(text3)"
   ]
  },
  {
   "cell_type": "markdown",
   "metadata": {},
   "source": [
    "## 4. Spacy"
   ]
  },
  {
   "cell_type": "code",
   "execution_count": 12,
   "metadata": {},
   "outputs": [],
   "source": [
    "import spacy\n",
    "nlp = spacy.load('en_core_web_sm')"
   ]
  },
  {
   "cell_type": "code",
   "execution_count": 14,
   "metadata": {},
   "outputs": [],
   "source": [
    "doc1 = nlp(text1)"
   ]
  },
  {
   "cell_type": "code",
   "execution_count": 16,
   "metadata": {},
   "outputs": [
    {
     "name": "stdout",
     "output_type": "stream",
     "text": [
      "the\n",
      "next\n",
      "school\n",
      "year\n",
      "is\n",
      "the\n",
      "year\n",
      "for\n",
      "exams.ð¯\n",
      "ca\n",
      "n't\n",
      "think\n",
      "about\n",
      "that\n",
      "ð­\n",
      "#\n",
      "school\n",
      "#\n",
      "exams\n",
      "  \n",
      "#\n",
      "hate\n",
      "#\n",
      "imagine\n",
      "#\n",
      "actorslife\n",
      "#\n",
      "revolutionschool\n",
      "#\n",
      "girl\n"
     ]
    }
   ],
   "source": [
    "for d in doc1:\n",
    "    print(d)"
   ]
  },
  {
   "cell_type": "code",
   "execution_count": null,
   "metadata": {},
   "outputs": [],
   "source": []
  }
 ],
 "metadata": {
  "kernelspec": {
   "display_name": "torch",
   "language": "python",
   "name": "python3"
  },
  "language_info": {
   "codemirror_mode": {
    "name": "ipython",
    "version": 3
   },
   "file_extension": ".py",
   "mimetype": "text/x-python",
   "name": "python",
   "nbconvert_exporter": "python",
   "pygments_lexer": "ipython3",
   "version": "3.11.0"
  },
  "orig_nbformat": 4
 },
 "nbformat": 4,
 "nbformat_minor": 2
}
