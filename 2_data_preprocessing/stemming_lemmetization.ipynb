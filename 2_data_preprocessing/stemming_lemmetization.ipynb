{
 "cells": [
  {
   "cell_type": "markdown",
   "metadata": {},
   "source": [
    "# Stemming"
   ]
  },
  {
   "cell_type": "code",
   "execution_count": 1,
   "metadata": {},
   "outputs": [],
   "source": [
    "from nltk.stem.porter import PorterStemmer"
   ]
  },
  {
   "cell_type": "code",
   "execution_count": 2,
   "metadata": {},
   "outputs": [],
   "source": [
    "ps = PorterStemmer()\n",
    "\n",
    "def stem_words(text):\n",
    "    return \" \".join([ps.stem(word) for word in text.split()])"
   ]
  },
  {
   "cell_type": "code",
   "execution_count": 3,
   "metadata": {},
   "outputs": [
    {
     "data": {
      "text/plain": [
       "'walk walk walk walk'"
      ]
     },
     "execution_count": 3,
     "metadata": {},
     "output_type": "execute_result"
    }
   ],
   "source": [
    "sample = 'walk walks walking walked'\n",
    "stem_words(sample)"
   ]
  },
  {
   "cell_type": "code",
   "execution_count": 4,
   "metadata": {},
   "outputs": [
    {
     "name": "stdout",
     "output_type": "stream",
     "text": [
      "The Epsom riot took place on 17 June 1919 when between 300 and 800 soldiers of the Canadian Army rioted and attacked the police station in Epsom in Surrey, England. With the First World War over, discipline at Canadian camps was relaxed. Delays in repatriation caused discontent among Canadian troops. The riot began when two Canadian servicemen were arrested following a disturbance at a local public house. Their comrades marched on the town police station to demand their release. In the ensuing fighting, Private Allan McMaster, a former blacksmith, picked up a metal bar and struck Station Sergeant Thomas Green (pictured), a British police officer, on the head.\n"
     ]
    }
   ],
   "source": [
    "sent = 'The Epsom riot took place on 17 June 1919 when between 300 and 800 soldiers of the Canadian Army rioted and attacked the police station in Epsom in Surrey, England. With the First World War over, discipline at Canadian camps was relaxed. Delays in repatriation caused discontent among Canadian troops. The riot began when two Canadian servicemen were arrested following a disturbance at a local public house. Their comrades marched on the town police station to demand their release. In the ensuing fighting, Private Allan McMaster, a former blacksmith, picked up a metal bar and struck Station Sergeant Thomas Green (pictured), a British police officer, on the head.'\n",
    "print(sent)"
   ]
  },
  {
   "cell_type": "code",
   "execution_count": 5,
   "metadata": {},
   "outputs": [
    {
     "data": {
      "text/plain": [
       "'the epsom riot took place on 17 june 1919 when between 300 and 800 soldier of the canadian armi riot and attack the polic station in epsom in surrey, england. with the first world war over, disciplin at canadian camp wa relaxed. delay in repatri caus discont among canadian troops. the riot began when two canadian servicemen were arrest follow a disturb at a local public house. their comrad march on the town polic station to demand their release. in the ensu fighting, privat allan mcmaster, a former blacksmith, pick up a metal bar and struck station sergeant thoma green (pictured), a british polic officer, on the head.'"
      ]
     },
     "execution_count": 5,
     "metadata": {},
     "output_type": "execute_result"
    }
   ],
   "source": [
    "stem_words(sent)"
   ]
  },
  {
   "cell_type": "markdown",
   "metadata": {},
   "source": [
    "# Lemmatization"
   ]
  },
  {
   "cell_type": "code",
   "execution_count": 3,
   "metadata": {},
   "outputs": [
    {
     "name": "stdout",
     "output_type": "stream",
     "text": [
      "the sentence is:\n",
      "The Epsom riot took place on 17 June 1919 when between 300 and 800 soldiers of the Canadian Army rioted and attacked the police station in Epsom in Surrey, England. With the First World War over, discipline at Canadian camps was relaxed. Delays in repatriation caused discontent among Canadian troops. The riot began when two Canadian servicemen were arrested following a disturbance at a local public house. Their comrades marched on the town police station to demand their release. In the ensuing fighting, Private Allan McMaster, a former blacksmith, picked up a metal bar and struck Station Sergeant Thomas Green (pictured), a British police officer, on the head.\n",
      "\n",
      "Punctuation is here:\n",
      "!\"#$%&'()*+,-./:;<=>?@[\\]^_`{|}~\n",
      "\n",
      "here we found the sentence tokenization form:\n",
      "['The', 'Epsom', 'riot', 'took', 'place', 'on', '17', 'June', '1919', 'when', 'between', '300', 'and', '800', 'soldiers', 'of', 'the', 'Canadian', 'Army', 'rioted', 'and', 'attacked', 'the', 'police', 'station', 'in', 'Epsom', 'in', 'Surrey', ',', 'England', '.', 'With', 'the', 'First', 'World', 'War', 'over', ',', 'discipline', 'at', 'Canadian', 'camps', 'was', 'relaxed', '.', 'Delays', 'in', 'repatriation', 'caused', 'discontent', 'among', 'Canadian', 'troops', '.', 'The', 'riot', 'began', 'when', 'two', 'Canadian', 'servicemen', 'were', 'arrested', 'following', 'a', 'disturbance', 'at', 'a', 'local', 'public', 'house', '.', 'Their', 'comrades', 'marched', 'on', 'the', 'town', 'police', 'station', 'to', 'demand', 'their', 'release', '.', 'In', 'the', 'ensuing', 'fighting', ',', 'Private', 'Allan', 'McMaster', ',', 'a', 'former', 'blacksmith', ',', 'picked', 'up', 'a', 'metal', 'bar', 'and', 'struck', 'Station', 'Sergeant', 'Thomas', 'Green', '(', 'pictured', ')', ',', 'a', 'British', 'police', 'officer', ',', 'on', 'the', 'head', '.']\n",
      "\n",
      "Here is the sentence word after removeing punctuations:\n",
      "['The', 'Epsom', 'riot', 'took', 'place', 'on', '17', 'June', '1919', 'when', 'between', '300', 'and', '800', 'soldiers', 'of', 'the', 'Canadian', 'Army', 'rioted', 'and', 'attacked', 'the', 'police', 'station', 'in', 'Epsom', 'in', 'Surrey', 'England', 'With', 'the', 'First', 'World', 'War', 'over', 'discipline', 'at', 'Canadian', 'camps', 'was', 'relaxed', 'Delays', 'in', 'repatriation', 'caused', 'discontent', 'among', 'Canadian', 'troops', 'The', 'riot', 'began', 'when', 'two', 'Canadian', 'servicemen', 'were', 'arrested', 'following', 'a', 'disturbance', 'at', 'a', 'local', 'public', 'house', 'Their', 'comrades', 'marched', 'on', 'the', 'town', 'police', 'station', 'to', 'demand', 'their', 'release', 'In', 'the', 'ensuing', 'fighting', 'Private', 'Allan', 'McMaster', 'a', 'former', 'blacksmith', 'picked', 'up', 'a', 'metal', 'bar', 'and', 'struck', 'Station', 'Sergeant', 'Thomas', 'Green', 'pictured', 'a', 'British', 'police', 'officer', ',', 'on', 'the', 'head']\n",
      "\n",
      "Word                Lemma               \n",
      "The                 The                 \n",
      "Epsom               Epsom               \n",
      "riot                riot                \n",
      "took                take                \n",
      "place               place               \n",
      "on                  on                  \n",
      "17                  17                  \n",
      "June                June                \n",
      "1919                1919                \n",
      "when                when                \n",
      "between             between             \n",
      "300                 300                 \n",
      "and                 and                 \n",
      "800                 800                 \n",
      "soldiers            soldier             \n",
      "of                  of                  \n",
      "the                 the                 \n",
      "Canadian            Canadian            \n",
      "Army                Army                \n",
      "rioted              riot                \n",
      "and                 and                 \n",
      "attacked            attack              \n",
      "the                 the                 \n",
      "police              police              \n",
      "station             station             \n",
      "in                  in                  \n",
      "Epsom               Epsom               \n",
      "in                  in                  \n",
      "Surrey              Surrey              \n",
      "England             England             \n",
      "With                With                \n",
      "the                 the                 \n",
      "First               First               \n",
      "World               World               \n",
      "War                 War                 \n",
      "over                over                \n",
      "discipline          discipline          \n",
      "at                  at                  \n",
      "Canadian            Canadian            \n",
      "camps               camp                \n",
      "was                 be                  \n",
      "relaxed             relax               \n",
      "Delays              Delays              \n",
      "in                  in                  \n",
      "repatriation        repatriation        \n",
      "caused              cause               \n",
      "discontent          discontent          \n",
      "among               among               \n",
      "Canadian            Canadian            \n",
      "troops              troop               \n",
      "The                 The                 \n",
      "riot                riot                \n",
      "began               begin               \n",
      "when                when                \n",
      "two                 two                 \n",
      "Canadian            Canadian            \n",
      "servicemen          servicemen          \n",
      "were                be                  \n",
      "arrested            arrest              \n",
      "following           follow              \n",
      "a                   a                   \n",
      "disturbance         disturbance         \n",
      "at                  at                  \n",
      "a                   a                   \n",
      "local               local               \n",
      "public              public              \n",
      "house               house               \n",
      "Their               Their               \n",
      "comrades            comrades            \n",
      "marched             march               \n",
      "on                  on                  \n",
      "the                 the                 \n",
      "town                town                \n",
      "police              police              \n",
      "station             station             \n",
      "to                  to                  \n",
      "demand              demand              \n",
      "their               their               \n",
      "release             release             \n",
      "In                  In                  \n",
      "the                 the                 \n",
      "ensuing             ensue               \n",
      "fighting            fight               \n",
      "Private             Private             \n",
      "Allan               Allan               \n",
      "McMaster            McMaster            \n",
      "a                   a                   \n",
      "former              former              \n",
      "blacksmith          blacksmith          \n",
      "picked              pick                \n",
      "up                  up                  \n",
      "a                   a                   \n",
      "metal               metal               \n",
      "bar                 bar                 \n",
      "and                 and                 \n",
      "struck              strike              \n",
      "Station             Station             \n",
      "Sergeant            Sergeant            \n",
      "Thomas              Thomas              \n",
      "Green               Green               \n",
      "pictured            picture             \n",
      "a                   a                   \n",
      "British             British             \n",
      "police              police              \n",
      "officer             officer             \n",
      ",                   ,                   \n",
      "on                  on                  \n",
      "the                 the                 \n",
      "head                head                \n"
     ]
    },
    {
     "name": "stderr",
     "output_type": "stream",
     "text": [
      "[nltk_data] Downloading package wordnet to /home/mahfuz/nltk_data...\n",
      "[nltk_data]   Package wordnet is already up-to-date!\n"
     ]
    }
   ],
   "source": [
    "import nltk\n",
    "nltk.download('wordnet')\n",
    "from nltk.stem import WordNetLemmatizer\n",
    "import string\n",
    "wordnet_lemmatizer = WordNetLemmatizer()\n",
    "\n",
    "sent1 = \"The Epsom riot took place on 17 June 1919 when between 300 and 800 soldiers of the Canadian Army rioted and attacked the police station in Epsom in Surrey, England. With the First World War over, discipline at Canadian camps was relaxed. Delays in repatriation caused discontent among Canadian troops. The riot began when two Canadian servicemen were arrested following a disturbance at a local public house. Their comrades marched on the town police station to demand their release. In the ensuing fighting, Private Allan McMaster, a former blacksmith, picked up a metal bar and struck Station Sergeant Thomas Green (pictured), a British police officer, on the head.\"\n",
    "print(f\"the sentence is:\\n{sent1}\\n\")\n",
    "\n",
    "punctuations = string.punctuation\n",
    "print(f\"Punctuation is here:\\n{punctuations}\\n\")\n",
    "\n",
    "sent_words = nltk.word_tokenize(sent1)\n",
    "print(f\"here we found the sentence tokenization form:\\n{sent_words}\\n\")\n",
    "for word in sent_words:\n",
    "    if word in punctuations:\n",
    "        sent_words.remove(word)\n",
    "print(f\"Here is the sentence word after removeing punctuations:\\n{sent_words}\\n\")\n",
    "print(\"{0:20}{1:20}\".format('Word','Lemma'))\n",
    "for word in sent_words:\n",
    "    print(\"{0:20}{1:20}\".format(word, wordnet_lemmatizer.lemmatize(word, pos='v')))"
   ]
  },
  {
   "cell_type": "code",
   "execution_count": null,
   "metadata": {},
   "outputs": [],
   "source": []
  }
 ],
 "metadata": {
  "kernelspec": {
   "display_name": "torch",
   "language": "python",
   "name": "python3"
  },
  "language_info": {
   "codemirror_mode": {
    "name": "ipython",
    "version": 3
   },
   "file_extension": ".py",
   "mimetype": "text/x-python",
   "name": "python",
   "nbconvert_exporter": "python",
   "pygments_lexer": "ipython3",
   "version": "3.11.0"
  },
  "orig_nbformat": 4
 },
 "nbformat": 4,
 "nbformat_minor": 2
}
